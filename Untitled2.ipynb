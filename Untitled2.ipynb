{
 "cells": [
  {
   "cell_type": "code",
   "execution_count": 12,
   "id": "0f03d006-2966-4191-a217-edc045a086ee",
   "metadata": {},
   "outputs": [
    {
     "name": "stdin",
     "output_type": "stream",
     "text": [
      "enter the price  200\n"
     ]
    },
    {
     "name": "stdout",
     "output_type": "stream",
     "text": [
      "not intesret\n"
     ]
    }
   ],
   "source": [
    "price=int(input(\"enter the price \"))\n",
    "if price >1000:\n",
    "    print('I will not purchase')\n",
    "    if price >5000:\n",
    "        print('Its too much ')\n",
    "    elif price <2000:\n",
    "        print('its ok')\n",
    "elif price >1000:\n",
    "    print('I will not purchase')     \n",
    "else:\n",
    "    print ('not intesret')"
   ]
  },
  {
   "cell_type": "code",
   "execution_count": null,
   "id": "35c28b5a-111e-4d60-ae73-3f9752fed8e2",
   "metadata": {},
   "outputs": [],
   "source": []
  }
 ],
 "metadata": {
  "kernelspec": {
   "display_name": "Python 3 (ipykernel)",
   "language": "python",
   "name": "python3"
  },
  "language_info": {
   "codemirror_mode": {
    "name": "ipython",
    "version": 3
   },
   "file_extension": ".py",
   "mimetype": "text/x-python",
   "name": "python",
   "nbconvert_exporter": "python",
   "pygments_lexer": "ipython3",
   "version": "3.10.8"
  }
 },
 "nbformat": 4,
 "nbformat_minor": 5
}
